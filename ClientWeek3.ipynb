{
 "cells": [
  {
   "cell_type": "code",
   "execution_count": 1,
   "metadata": {},
   "outputs": [
    {
     "name": "stdout",
     "output_type": "stream",
     "text": [
      "[('menu_item_categories',), ('orders_cost_morethan150',), ('orders_morethan2',), ('orders_with_quant_more_than2',), ('tb_bookings',), ('tb_customer_details',), ('tb_menu',), ('tb_order_delivery_status',), ('tb_orders',), ('tb_staff',)]\n"
     ]
    }
   ],
   "source": [
    "import mysql.connector as connector\n",
    "\n",
    "\n",
    "# Establish the connection\n",
    "connection = connector.connect(user=\"Llemonroot\", password=\"260ram120\", database=\"llemondb\")\n",
    "# Create a cursor object\n",
    "cursor = connection.cursor()\n",
    "\n",
    "# Execute the SQL query\n",
    "show_tables_query = \"SHOW tables\"\n",
    "cursor.execute(show_tables_query)\n",
    "\n",
    "# Fetch the results\n",
    "results = cursor.fetchall()\n",
    "\n",
    "# Print the results\n",
    "print(results)\n",
    "\n",
    "# Close the cursor and connection\n",
    "cursor.close()\n",
    "connection.close()\n",
    "import mysql.connector as connector\n"
   ]
  },
  {
   "cell_type": "code",
   "execution_count": 6,
   "metadata": {},
   "outputs": [
    {
     "name": "stdout",
     "output_type": "stream",
     "text": [
      "Name: Emily SurName: Williams Contact Details: emily.williams@example.com Total Cost: 202.00\n"
     ]
    }
   ],
   "source": [
    "# Establish the connection\n",
    "connection = connector.connect(user=\"Llemonroot\", password=\"260ram120\", database=\"llemondb\")\n",
    "\n",
    "# Create a cursor object\n",
    "cursor = connection.cursor()\n",
    "\n",
    "# SQL Query\n",
    "query = \"\"\"\n",
    "SELECT c.customer_Name, c.customer_surname, c.customer_Email, o.Total_Cost\n",
    "FROM tb_orders AS o\n",
    "JOIN tb_customer_details AS c ON o.customer_id = c.customer_id\n",
    "WHERE o.total_cost > 60;\n",
    "\"\"\"\n",
    "\n",
    "# Execute the query\n",
    "cursor.execute(query)\n",
    "\n",
    "# Fetch the results\n",
    "results = cursor.fetchall()\n",
    "\n",
    "# Print the results\n",
    "for result in results:\n",
    "    print(\"Name:\", result[0], \"SurName:\", result[1],\"Contact Details:\", result[2], \"Total Cost:\", result[3])\n",
    "\n",
    "# Close the cursor and connection\n",
    "cursor.close()\n",
    "connection.close()"
   ]
  }
 ],
 "metadata": {
  "kernelspec": {
   "display_name": "venv",
   "language": "python",
   "name": "python3"
  },
  "language_info": {
   "codemirror_mode": {
    "name": "ipython",
    "version": 3
   },
   "file_extension": ".py",
   "mimetype": "text/x-python",
   "name": "python",
   "nbconvert_exporter": "python",
   "pygments_lexer": "ipython3",
   "version": "3.12.2"
  }
 },
 "nbformat": 4,
 "nbformat_minor": 2
}
